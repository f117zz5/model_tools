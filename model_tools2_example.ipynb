{
 "metadata": {
  "name": "model_tools2_example"
 },
 "nbformat": 3,
 "nbformat_minor": 0,
 "worksheets": [
  {
   "cells": [
    {
     "cell_type": "markdown",
     "metadata": {},
     "source": [
      "Example of how to use the model_tool. It is the coupled spring-mass system: http://wiki.scipy.org/Cookbook/CoupledSpringMassSystem"
     ]
    },
    {
     "cell_type": "markdown",
     "metadata": {},
     "source": [
      "Load the model_tool as module and initiate an object."
     ]
    },
    {
     "cell_type": "code",
     "collapsed": false,
     "input": [
      "%load_ext sympy.interactive.ipythonprinting\n",
      "%pylab inline\n",
      "import model_tools2 as mt2\n",
      "mt2 = reload(mt2) \n",
      "a1 = mt2.ang()"
     ],
     "language": "python",
     "metadata": {},
     "outputs": [
      {
       "output_type": "stream",
       "stream": "stdout",
       "text": [
        "\n",
        "Welcome to pylab, a matplotlib-based Python environment [backend: module://IPython.zmq.pylab.backend_inline].\n",
        "For more information, type 'help(pylab)'.\n"
       ]
      }
     ],
     "prompt_number": 41
    },
    {
     "cell_type": "markdown",
     "metadata": {},
     "source": [
      "Define the equations for the displacement:"
     ]
    },
    {
     "cell_type": "code",
     "collapsed": false,
     "input": [
      "a1.eq_add('delta__L1', 'x_1-L_1')\n",
      "a1.eq_add('delta__L2', 'x_2-L_2')"
     ],
     "language": "python",
     "metadata": {},
     "outputs": [],
     "prompt_number": 42
    },
    {
     "cell_type": "markdown",
     "metadata": {},
     "source": [
      "And now define the ODE system:"
     ]
    },
    {
     "cell_type": "code",
     "collapsed": false,
     "input": [
      "a1.ode_eq_add('x_1', 'y_1')\n",
      "a1.ode_eq_add('y_1', '(-b_1 * y_1 - k_1 * delta__L1 + k_2 * (delta__L2 - x_1)) / m_1')\n",
      "a1.ode_eq_add('x_2', 'y_2')\n",
      "a1.ode_eq_add('y_2', '(-b_2 * y_2 - k_2 * (delta__L2 - x_1)) / m_2')\n",
      "\n"
     ],
     "language": "python",
     "metadata": {},
     "outputs": [],
     "prompt_number": 43
    },
    {
     "cell_type": "code",
     "collapsed": false,
     "input": [
      "a1.gen_ode_subs()"
     ],
     "language": "python",
     "metadata": {},
     "outputs": [],
     "prompt_number": 44
    },
    {
     "cell_type": "code",
     "collapsed": false,
     "input": [
      "b1 = list(a1.eq['ode_subs']['y_1'].free_symbols)\n",
      "\n",
      "states = dict()\n",
      "params = dict()\n",
      "\n",
      "for ce in b1:\n",
      "    params[ce.name] = ce\n",
      "\n",
      "for cc in a1.eq['ode_subs'].keys():\n",
      "    if params.has_key(cc):\n",
      "        states[cc] = params[cc]\n",
      "    else:\n",
      "        states[cc] = mt2.var(cc)"
     ],
     "language": "python",
     "metadata": {},
     "outputs": [],
     "prompt_number": 45
    },
    {
     "cell_type": "code",
     "collapsed": false,
     "input": [
      "states"
     ],
     "language": "python",
     "metadata": {},
     "outputs": [
      {
       "output_type": "pyout",
       "prompt_number": 46,
       "text": [
        "{x_1: x\u2081, x_2: x\u2082, y_1: y\u2081, y_2: y\u2082}"
       ]
      }
     ],
     "prompt_number": 46
    },
    {
     "cell_type": "code",
     "collapsed": false,
     "input": [
      "a1.eq_all_params(Zone = 'ode_subs')"
     ],
     "language": "python",
     "metadata": {},
     "outputs": [],
     "prompt_number": 49
    },
    {
     "cell_type": "code",
     "collapsed": false,
     "input": [
      "print a1.all_params"
     ],
     "language": "python",
     "metadata": {},
     "outputs": [
      {
       "output_type": "stream",
       "stream": "stdout",
       "text": [
        "['L_1', 'L_2', 'b_1', 'b_2', 'k_1', 'k_2', 'm_1', 'm_2', 'x_1', 'x_2', 'y_1', 'y_2']\n"
       ]
      }
     ],
     "prompt_number": 50
    },
    {
     "cell_type": "code",
     "collapsed": false,
     "input": [],
     "language": "python",
     "metadata": {},
     "outputs": [],
     "prompt_number": 40
    }
   ],
   "metadata": {}
  }
 ]
}