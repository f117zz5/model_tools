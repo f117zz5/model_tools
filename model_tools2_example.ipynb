{
 "metadata": {
  "name": "",
  "signature": "sha256:f787d1e384d974949914bc7b61c914a9090931b6af5feac8c0a893bbc9e50f87"
 },
 "nbformat": 3,
 "nbformat_minor": 0,
 "worksheets": [
  {
   "cells": [
    {
     "cell_type": "markdown",
     "metadata": {},
     "source": [
      "Example of how to use the model_tool. It is the coupled spring-mass system: http://wiki.scipy.org/Cookbook/CoupledSpringMassSystem"
     ]
    },
    {
     "cell_type": "markdown",
     "metadata": {},
     "source": [
      "Load the model_tool as module and initiate an object."
     ]
    },
    {
     "cell_type": "code",
     "collapsed": false,
     "input": [
      "#%load_ext sympy.interactive.ipythonprinting\n",
      "from sympy import init_printing\n",
      "init_printing()\n",
      "%pylab inline\n",
      "import model_tools2 as mt2\n",
      "mt2 = reload(mt2) \n",
      "a1 = mt2.ang()"
     ],
     "language": "python",
     "metadata": {},
     "outputs": [
      {
       "output_type": "stream",
       "stream": "stdout",
       "text": [
        "Populating the interactive namespace from numpy and matplotlib\n"
       ]
      }
     ],
     "prompt_number": 2
    },
    {
     "cell_type": "markdown",
     "metadata": {},
     "source": [
      "Define the equations for the displacement:"
     ]
    },
    {
     "cell_type": "code",
     "collapsed": false,
     "input": [
      "a1.eq_add('delta__L1', 'x_1-L_1')\n",
      "a1.eq_add('delta__L2', 'x_2-L_2')"
     ],
     "language": "python",
     "metadata": {},
     "outputs": [],
     "prompt_number": 3
    },
    {
     "cell_type": "markdown",
     "metadata": {},
     "source": [
      "And now define the ODE system:"
     ]
    },
    {
     "cell_type": "code",
     "collapsed": false,
     "input": [
      "a1.ode_eq_add('x_1', 'y_1')\n",
      "a1.ode_eq_add('y_1', '(-b_1 * y_1 - k_1 * delta__L1 + k_2 * (delta__L2 - x_1)) / m_1')\n",
      "a1.ode_eq_add('x_2', 'y_2')\n",
      "a1.ode_eq_add('y_2', '(-b_2 * y_2 - k_2 * (delta__L2 - x_1)) / m_2')\n",
      "\n"
     ],
     "language": "python",
     "metadata": {},
     "outputs": [],
     "prompt_number": 4
    },
    {
     "cell_type": "code",
     "collapsed": false,
     "input": [
      "a1.gen_ode_subs()"
     ],
     "language": "python",
     "metadata": {},
     "outputs": [],
     "prompt_number": 5
    },
    {
     "cell_type": "code",
     "collapsed": false,
     "input": [
      "# find all the parameters\n",
      "a1.eq_all_params(Zone = 'algebraic')\n",
      "a1.eq_all_params(Zone = 'ode')\n",
      "a1.eq_all_params(Zone = 'ode_subs')"
     ],
     "language": "python",
     "metadata": {},
     "outputs": [],
     "prompt_number": 11
    },
    {
     "cell_type": "code",
     "collapsed": false,
     "input": [
      "x_vec = list()\n",
      "for c_el in a1.eq['ode_subs'].keys():\n",
      "    x_vec.append(a1.all_params_ode_subs[c_el])"
     ],
     "language": "python",
     "metadata": {},
     "outputs": [],
     "prompt_number": 44
    },
    {
     "cell_type": "code",
     "collapsed": false,
     "input": [
      "par_vec = [a1.all_params_ode_subs['k_1'], a1.all_params_ode_subs['k_2']]"
     ],
     "language": "python",
     "metadata": {},
     "outputs": [],
     "prompt_number": 47
    },
    {
     "cell_type": "code",
     "collapsed": false,
     "input": [
      "sens_sys_list = a1.sys_dict_to_list(a1.eq['ode_subs'])"
     ],
     "language": "python",
     "metadata": {},
     "outputs": [],
     "prompt_number": 48
    },
    {
     "cell_type": "code",
     "collapsed": false,
     "input": [
      "sens_sys = a1.sens_ext_sys(sens_sys_list, x_vec, par_vec)"
     ],
     "language": "python",
     "metadata": {},
     "outputs": [],
     "prompt_number": 49
    },
    {
     "cell_type": "code",
     "collapsed": false,
     "input": [
      "sens_sys_list = a1.sys_dict_to_list(sens_sys)"
     ],
     "language": "python",
     "metadata": {},
     "outputs": [],
     "prompt_number": 64
    },
    {
     "cell_type": "code",
     "collapsed": false,
     "input": [
      "from sympy import cse, numbered_symbols\n",
      "a4=cse(sens_sys_list, symbols=numbered_symbols(prefix='t', start=0))"
     ],
     "language": "python",
     "metadata": {},
     "outputs": [],
     "prompt_number": 61
    },
    {
     "cell_type": "code",
     "collapsed": false,
     "input": [
      "a1.print_Sys_optim(a4, func_name = 'r1')"
     ],
     "language": "python",
     "metadata": {},
     "outputs": [
      {
       "output_type": "stream",
       "stream": "stdout",
       "text": [
        "#----------\n",
        "def r1(w, t, p):\n",
        "    # Automatically generated function\n",
        "\n",
        "    # The state vector\n",
        "    (x1, x2, x3, x4, x5, x6, x7, x8, x9, x10, x11, x12)=w \n",
        "    # The parameters\n",
        "    (L_1, L_2, b_1, b_2, k_1, k_2, m_1, m_2) = p\n",
        "\n",
        "    # Now the common terms\n",
        "    t0=1/m_1\n",
        "    t1=-x_1\n",
        "    t2=-L_2 + t1 + x_2\n",
        "    t3=k_2*t2\n",
        "    t4=1/m_2\n",
        "    t5=k_2*t0\n",
        "    t6=b_1*t0\n",
        "    t7=t0*(-k_1 - k_2)\n",
        "    t8=k_2*t4\n",
        "    t9=b_2*t4\n",
        "\n",
        "    # The ODE system\n",
        "    dot_x=[y_1,\n",
        "    y_2,\n",
        "    t0*(-b_1*y_1 - k_1*(-L_1 + x_1) + t3),\n",
        "    t4*(-b_2*y_2 - t3),\n",
        "    x7,\n",
        "    x6,\n",
        "    t0*(L_1 + t1) + t5*x5 - t6*x7 + t7*x8,\n",
        "    -t8*x5 + t8*x8 - t9*x6,\n",
        "    x11,\n",
        "    x10,\n",
        "    t0*t2 + t5*x9 - t6*x11 + t7*x12,\n",
        "    t4*(L_2 + x_1 - x_2) + t8*x12 - t8*x9 - t9*x10]"
       ]
      },
      {
       "output_type": "stream",
       "stream": "stdout",
       "text": [
        "\n",
        "    \n",
        "    return dot_x\n"
       ]
      }
     ],
     "prompt_number": 63
    },
    {
     "cell_type": "markdown",
     "metadata": {},
     "source": [
      "Some legacy code, have been testing something..."
     ]
    },
    {
     "cell_type": "code",
     "collapsed": false,
     "input": [
      "b1 = list(a1.eq['ode_subs']['y_1'].free_symbols)\n",
      "\n",
      "states = dict()\n",
      "params = dict()\n",
      "\n",
      "for ce in b1:\n",
      "    params[ce.name] = ce\n",
      "\n",
      "for cc in a1.eq['ode_subs'].keys():\n",
      "    if params.has_key(cc):\n",
      "        states[cc] = params[cc]\n",
      "    else:\n",
      "        states[cc] = mt2.var(cc)"
     ],
     "language": "python",
     "metadata": {},
     "outputs": [],
     "prompt_number": 9
    },
    {
     "cell_type": "code",
     "collapsed": false,
     "input": [
      "states"
     ],
     "language": "python",
     "metadata": {},
     "outputs": [
      {
       "metadata": {},
       "output_type": "pyout",
       "prompt_number": 10,
       "text": [
        "{'x_1': x_1, 'x_2': x_2, 'y_1': y_1, 'y_2': y_2}"
       ]
      }
     ],
     "prompt_number": 10
    },
    {
     "cell_type": "code",
     "collapsed": false,
     "input": [
      "a1.eq_all_params(Zone = 'ode_subs')"
     ],
     "language": "python",
     "metadata": {},
     "outputs": [],
     "prompt_number": 6
    },
    {
     "cell_type": "code",
     "collapsed": false,
     "input": [
      "print a1.all_params_ode_subs"
     ],
     "language": "python",
     "metadata": {},
     "outputs": [
      {
       "output_type": "stream",
       "stream": "stdout",
       "text": [
        "{'L_2': L_2, 'x_1': x_1, 'L_1': L_1, 'k_1': k_1, 'k_2': k_2, 'y_2': y_2, 'y_1': y_1, 'x_2': x_2, 'm_2': m_2, 'delta__L1': delta__L1, 'b_1': b_1, 'm_1': m_1, 'delta__L2': delta__L2, 'b_2': b_2}\n"
       ]
      }
     ],
     "prompt_number": 42
    },
    {
     "cell_type": "code",
     "collapsed": false,
     "input": [
      "type(a1.all_params_ode_subs['m_2'])"
     ],
     "language": "python",
     "metadata": {},
     "outputs": [
      {
       "metadata": {},
       "output_type": "pyout",
       "prompt_number": 19,
       "text": [
        "sympy.core.symbol.Symbol"
       ]
      }
     ],
     "prompt_number": 19
    },
    {
     "cell_type": "code",
     "collapsed": false,
     "input": [],
     "language": "python",
     "metadata": {},
     "outputs": []
    }
   ],
   "metadata": {}
  }
 ]
}